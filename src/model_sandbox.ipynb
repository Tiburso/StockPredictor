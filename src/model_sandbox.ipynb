{
 "cells": [
  {
   "cell_type": "code",
   "execution_count": 237,
   "metadata": {},
   "outputs": [],
   "source": [
    "%reload_ext autoreload\n",
    "%autoreload 2\n",
    "%matplotlib inline"
   ]
  },
  {
   "cell_type": "code",
   "execution_count": 238,
   "metadata": {},
   "outputs": [],
   "source": [
    "import torch\n",
    "from torch.utils.data import DataLoader, TensorDataset\n",
    "\n",
    "import pytorch_lightning as pl\n",
    "\n",
    "import pandas as pd\n",
    "import numpy as np\n",
    "\n",
    "import matplotlib.pyplot as plt\n",
    "\n",
    "from sklearn.preprocessing import MinMaxScaler, LabelEncoder\n",
    "from sklearn.compose import ColumnTransformer\n",
    "\n",
    "from sklearn.metrics import mean_squared_error\n",
    "from sklearn.model_selection import train_test_split, KFold\n",
    "\n",
    "from db.db import init_db, get_stocks\n",
    "\n",
    "from model.predictor import LitLSTMModel\n",
    "\n",
    "from helpers.plots import data_plot\n",
    "\n",
    "from tickers import TICKERS"
   ]
  },
  {
   "cell_type": "code",
   "execution_count": 239,
   "metadata": {},
   "outputs": [],
   "source": [
    "await init_db()"
   ]
  },
  {
   "cell_type": "code",
   "execution_count": 240,
   "metadata": {},
   "outputs": [
    {
     "name": "stdout",
     "output_type": "stream",
     "text": [
      "<class 'pandas.core.frame.DataFrame'>\n",
      "Index: 25827 entries, 1990-01-02 to 2024-03-05\n",
      "Data columns (total 6 columns):\n",
      " #   Column  Non-Null Count  Dtype  \n",
      "---  ------  --------------  -----  \n",
      " 0   symbol  25827 non-null  object \n",
      " 1   open    23538 non-null  float64\n",
      " 2   high    23538 non-null  float64\n",
      " 3   low     23538 non-null  float64\n",
      " 4   close   23538 non-null  float64\n",
      " 5   volume  23538 non-null  float64\n",
      "dtypes: float64(5), object(1)\n",
      "memory usage: 1.4+ MB\n"
     ]
    },
    {
     "data": {
      "text/html": [
       "<div>\n",
       "<style scoped>\n",
       "    .dataframe tbody tr th:only-of-type {\n",
       "        vertical-align: middle;\n",
       "    }\n",
       "\n",
       "    .dataframe tbody tr th {\n",
       "        vertical-align: top;\n",
       "    }\n",
       "\n",
       "    .dataframe thead th {\n",
       "        text-align: right;\n",
       "    }\n",
       "</style>\n",
       "<table border=\"1\" class=\"dataframe\">\n",
       "  <thead>\n",
       "    <tr style=\"text-align: right;\">\n",
       "      <th></th>\n",
       "      <th>symbol</th>\n",
       "      <th>open</th>\n",
       "      <th>high</th>\n",
       "      <th>low</th>\n",
       "      <th>close</th>\n",
       "      <th>volume</th>\n",
       "    </tr>\n",
       "  </thead>\n",
       "  <tbody>\n",
       "    <tr>\n",
       "      <th>2024-02-28</th>\n",
       "      <td>NVDA</td>\n",
       "      <td>776.163594</td>\n",
       "      <td>789.292983</td>\n",
       "      <td>771.213814</td>\n",
       "      <td>776.593567</td>\n",
       "      <td>39311000.0</td>\n",
       "    </tr>\n",
       "    <tr>\n",
       "      <th>2024-02-29</th>\n",
       "      <td>NVDA</td>\n",
       "      <td>790.902902</td>\n",
       "      <td>799.862503</td>\n",
       "      <td>783.463248</td>\n",
       "      <td>791.082886</td>\n",
       "      <td>50728900.0</td>\n",
       "    </tr>\n",
       "    <tr>\n",
       "      <th>2024-03-01</th>\n",
       "      <td>NVDA</td>\n",
       "      <td>799.962494</td>\n",
       "      <td>822.961416</td>\n",
       "      <td>794.312735</td>\n",
       "      <td>822.751404</td>\n",
       "      <td>47677700.0</td>\n",
       "    </tr>\n",
       "    <tr>\n",
       "      <th>2024-03-04</th>\n",
       "      <td>NVDA</td>\n",
       "      <td>841.260529</td>\n",
       "      <td>876.908881</td>\n",
       "      <td>837.150736</td>\n",
       "      <td>852.330017</td>\n",
       "      <td>61561600.0</td>\n",
       "    </tr>\n",
       "    <tr>\n",
       "      <th>2024-03-05</th>\n",
       "      <td>NVDA</td>\n",
       "      <td>852.700012</td>\n",
       "      <td>860.969971</td>\n",
       "      <td>834.169983</td>\n",
       "      <td>859.640015</td>\n",
       "      <td>51770200.0</td>\n",
       "    </tr>\n",
       "  </tbody>\n",
       "</table>\n",
       "</div>"
      ],
      "text/plain": [
       "           symbol        open        high         low       close      volume\n",
       "2024-02-28   NVDA  776.163594  789.292983  771.213814  776.593567  39311000.0\n",
       "2024-02-29   NVDA  790.902902  799.862503  783.463248  791.082886  50728900.0\n",
       "2024-03-01   NVDA  799.962494  822.961416  794.312735  822.751404  47677700.0\n",
       "2024-03-04   NVDA  841.260529  876.908881  837.150736  852.330017  61561600.0\n",
       "2024-03-05   NVDA  852.700012  860.969971  834.169983  859.640015  51770200.0"
      ]
     },
     "execution_count": 240,
     "metadata": {},
     "output_type": "execute_result"
    }
   ],
   "source": [
    "\n",
    "df = await get_stocks(TICKERS[:3])\n",
    "df.info()\n",
    "df.tail()"
   ]
  },
  {
   "cell_type": "code",
   "execution_count": 241,
   "metadata": {},
   "outputs": [
    {
     "name": "stdout",
     "output_type": "stream",
     "text": [
      "<class 'pandas.core.frame.DataFrame'>\n",
      "DatetimeIndex: 12482 entries, 1990-01-02 to 2024-03-05\n",
      "Freq: D\n",
      "Data columns (total 3 columns):\n",
      " #   Column  Non-Null Count  Dtype  \n",
      "---  ------  --------------  -----  \n",
      " 0   AAPL    12482 non-null  float64\n",
      " 1   MSFT    12482 non-null  float64\n",
      " 2   NVDA    12482 non-null  float64\n",
      "dtypes: float64(3)\n",
      "memory usage: 390.1 KB\n"
     ]
    },
    {
     "data": {
      "text/html": [
       "<div>\n",
       "<style scoped>\n",
       "    .dataframe tbody tr th:only-of-type {\n",
       "        vertical-align: middle;\n",
       "    }\n",
       "\n",
       "    .dataframe tbody tr th {\n",
       "        vertical-align: top;\n",
       "    }\n",
       "\n",
       "    .dataframe thead th {\n",
       "        text-align: right;\n",
       "    }\n",
       "</style>\n",
       "<table border=\"1\" class=\"dataframe\">\n",
       "  <thead>\n",
       "    <tr style=\"text-align: right;\">\n",
       "      <th>symbol</th>\n",
       "      <th>AAPL</th>\n",
       "      <th>MSFT</th>\n",
       "      <th>NVDA</th>\n",
       "    </tr>\n",
       "  </thead>\n",
       "  <tbody>\n",
       "    <tr>\n",
       "      <th>1990-01-02</th>\n",
       "      <td>0.248953</td>\n",
       "      <td>0.374945</td>\n",
       "      <td>0.40132</td>\n",
       "    </tr>\n",
       "    <tr>\n",
       "      <th>1990-01-03</th>\n",
       "      <td>0.268375</td>\n",
       "      <td>0.384613</td>\n",
       "      <td>0.40132</td>\n",
       "    </tr>\n",
       "    <tr>\n",
       "      <th>1990-01-04</th>\n",
       "      <td>0.270141</td>\n",
       "      <td>0.383539</td>\n",
       "      <td>0.40132</td>\n",
       "    </tr>\n",
       "    <tr>\n",
       "      <th>1990-01-05</th>\n",
       "      <td>0.266610</td>\n",
       "      <td>0.393208</td>\n",
       "      <td>0.40132</td>\n",
       "    </tr>\n",
       "    <tr>\n",
       "      <th>1990-01-06</th>\n",
       "      <td>0.264843</td>\n",
       "      <td>0.384614</td>\n",
       "      <td>0.40132</td>\n",
       "    </tr>\n",
       "    <tr>\n",
       "      <th>1990-01-07</th>\n",
       "      <td>0.264843</td>\n",
       "      <td>0.384614</td>\n",
       "      <td>0.40132</td>\n",
       "    </tr>\n",
       "    <tr>\n",
       "      <th>1990-01-08</th>\n",
       "      <td>0.264843</td>\n",
       "      <td>0.384614</td>\n",
       "      <td>0.40132</td>\n",
       "    </tr>\n",
       "    <tr>\n",
       "      <th>1990-01-09</th>\n",
       "      <td>0.268375</td>\n",
       "      <td>0.391059</td>\n",
       "      <td>0.40132</td>\n",
       "    </tr>\n",
       "    <tr>\n",
       "      <th>1990-01-10</th>\n",
       "      <td>0.265727</td>\n",
       "      <td>0.386762</td>\n",
       "      <td>0.40132</td>\n",
       "    </tr>\n",
       "    <tr>\n",
       "      <th>1990-01-11</th>\n",
       "      <td>0.256016</td>\n",
       "      <td>0.381390</td>\n",
       "      <td>0.40132</td>\n",
       "    </tr>\n",
       "  </tbody>\n",
       "</table>\n",
       "</div>"
      ],
      "text/plain": [
       "symbol          AAPL      MSFT     NVDA\n",
       "1990-01-02  0.248953  0.374945  0.40132\n",
       "1990-01-03  0.268375  0.384613  0.40132\n",
       "1990-01-04  0.270141  0.383539  0.40132\n",
       "1990-01-05  0.266610  0.393208  0.40132\n",
       "1990-01-06  0.264843  0.384614  0.40132\n",
       "1990-01-07  0.264843  0.384614  0.40132\n",
       "1990-01-08  0.264843  0.384614  0.40132\n",
       "1990-01-09  0.268375  0.391059  0.40132\n",
       "1990-01-10  0.265727  0.386762  0.40132\n",
       "1990-01-11  0.256016  0.381390  0.40132"
      ]
     },
     "execution_count": 241,
     "metadata": {},
     "output_type": "execute_result"
    }
   ],
   "source": [
    "# Adjust the data so the columns are {symbol}_open and the date as index\n",
    "pivot_df = df.pivot(columns='symbol', values='open')\n",
    "pivot_df.index = pd.to_datetime(pivot_df.index)\n",
    "\n",
    "# Drop all the columns with no values and print the ones that were dropped\n",
    "pivot_df.dropna(axis=1, how='all', inplace=True)\n",
    "\n",
    "# Get the weekend data as well\n",
    "pivot_df = pivot_df.asfreq('D')\n",
    "\n",
    "pivot_df.bfill(inplace=True)\n",
    "\n",
    "pivot_df.info()\n",
    "pivot_df.head(n=10)"
   ]
  },
  {
   "cell_type": "code",
   "execution_count": 242,
   "metadata": {},
   "outputs": [],
   "source": [
    "# data_plot(df)"
   ]
  },
  {
   "cell_type": "code",
   "execution_count": 243,
   "metadata": {},
   "outputs": [
    {
     "name": "stdout",
     "output_type": "stream",
     "text": [
      "(9985, 3) (2497, 3)\n"
     ]
    }
   ],
   "source": [
    "train, test = train_test_split(pivot_df, test_size=0.2, shuffle=False)\n",
    "print(train.shape, test.shape)"
   ]
  },
  {
   "cell_type": "code",
   "execution_count": 244,
   "metadata": {},
   "outputs": [
    {
     "name": "stdout",
     "output_type": "stream",
     "text": [
      "symbol          AAPL      MSFT      NVDA\n",
      "1990-01-02  0.004416  0.000144  0.002779\n",
      "1990-01-03  0.004982  0.000296  0.002779\n",
      "1990-01-04  0.005033  0.000279  0.002779\n",
      "1990-01-05  0.004931  0.000431  0.002779\n",
      "1990-01-06  0.004879  0.000296  0.002779\n"
     ]
    }
   ],
   "source": [
    "# Scale the data per column\n",
    "scaler = MinMaxScaler()\n",
    "scaled_train = scaler.fit_transform(train)\n",
    "scaled_test = scaler.fit_transform(test)\n",
    "\n",
    "# Convert back into the previous format\n",
    "scaled_train_df = pd.DataFrame(scaled_train, columns=train.columns, index=train.index)\n",
    "scaled_test_df = pd.DataFrame(scaled_test, columns=test.columns, index=test.index)\n",
    "\n",
    "print(scaled_train_df.head())"
   ]
  },
  {
   "cell_type": "code",
   "execution_count": 245,
   "metadata": {},
   "outputs": [],
   "source": [
    "# Create a tensor of size window size for each sample\n",
    "def create_sequences(X, window_size):\n",
    "    Xs, ys = [], []\n",
    "    for i in range(len(X) - window_size):\n",
    "        Xs.append(X[i:i+window_size])\n",
    "        ys.append(X[i+1:i+window_size+1])\n",
    "    return np.array(Xs), np.array(ys)"
   ]
  },
  {
   "cell_type": "code",
   "execution_count": 246,
   "metadata": {},
   "outputs": [
    {
     "name": "stdout",
     "output_type": "stream",
     "text": [
      "torch.Size([9935, 50, 3]) torch.Size([9935, 50, 3])\n",
      "torch.Size([2467, 30, 3]) torch.Size([2467, 30, 3])\n"
     ]
    }
   ],
   "source": [
    "# Create sequences for the train data\n",
    "seq_length = 50\n",
    "X_train, y_train = create_sequences(scaled_train_df, window_size=seq_length)\n",
    "\n",
    "# Convert to tensor\n",
    "X_train = torch.from_numpy(X_train).float()\n",
    "y_train = torch.from_numpy(y_train).float()\n",
    "\n",
    "# Create sequences for the test data\n",
    "seq_length = 30\n",
    "X_test, y_test = create_sequences(scaled_test_df, window_size=seq_length)\n",
    "\n",
    "X_test = torch.from_numpy(X_test).float()\n",
    "y_test = torch.from_numpy(y_test).float()\n",
    "\n",
    "print(X_train.shape, y_train.shape)\n",
    "print(X_test.shape, y_test.shape)"
   ]
  },
  {
   "cell_type": "code",
   "execution_count": 247,
   "metadata": {},
   "outputs": [
    {
     "name": "stderr",
     "output_type": "stream",
     "text": [
      "GPU available: False, used: False\n",
      "TPU available: False, using: 0 TPU cores\n",
      "IPU available: False, using: 0 IPUs\n",
      "HPU available: False, using: 0 HPUs\n"
     ]
    },
    {
     "name": "stdout",
     "output_type": "stream",
     "text": [
      "<class 'model.predictor.LitLSTMModel'>\n"
     ]
    }
   ],
   "source": [
    "# Define the model\n",
    "input_size = X_train.shape[2]\n",
    "num_layers = X_train.shape[1]\n",
    "hidden_layer_size = 64\n",
    "\n",
    "model = LitLSTMModel(input_size, input_size, hidden_layer_size, num_layers)\n",
    "print(type(model))\n",
    "trainer = pl.Trainer(limit_train_batches=100, max_epochs=10, min_epochs=3, gradient_clip_val=0.5, deterministic=True)"
   ]
  },
  {
   "cell_type": "code",
   "execution_count": 248,
   "metadata": {},
   "outputs": [
    {
     "name": "stderr",
     "output_type": "stream",
     "text": [
      "\n",
      "  | Name   | Type   | Params\n",
      "----------------------------------\n",
      "0 | lstm   | LSTM   | 50.9 K\n",
      "1 | linear | Linear | 195   \n",
      "----------------------------------\n",
      "51.1 K    Trainable params\n",
      "0         Non-trainable params\n",
      "51.1 K    Total params\n",
      "0.205     Total estimated model params size (MB)\n"
     ]
    },
    {
     "name": "stdout",
     "output_type": "stream",
     "text": [
      "                                                                            "
     ]
    },
    {
     "name": "stderr",
     "output_type": "stream",
     "text": [
      "/home/manuel/Projects/StockPredictor/.venv/lib/python3.11/site-packages/pytorch_lightning/trainer/connectors/data_connector.py:441: The 'val_dataloader' does not have many workers which may be a bottleneck. Consider increasing the value of the `num_workers` argument` to `num_workers=7` in the `DataLoader` to improve performance.\n",
      "/home/manuel/Projects/StockPredictor/.venv/lib/python3.11/site-packages/pytorch_lightning/trainer/connectors/data_connector.py:441: The 'train_dataloader' does not have many workers which may be a bottleneck. Consider increasing the value of the `num_workers` argument` to `num_workers=7` in the `DataLoader` to improve performance.\n"
     ]
    },
    {
     "name": "stdout",
     "output_type": "stream",
     "text": [
      "Epoch 9: 100%|██████████| 100/100 [00:02<00:00, 43.36it/s, v_num=42, train_loss=0.000173, val_loss=0.000431]"
     ]
    },
    {
     "name": "stderr",
     "output_type": "stream",
     "text": [
      "`Trainer.fit` stopped: `max_epochs=10` reached.\n"
     ]
    },
    {
     "name": "stdout",
     "output_type": "stream",
     "text": [
      "Epoch 9: 100%|██████████| 100/100 [00:02<00:00, 43.22it/s, v_num=42, train_loss=0.000173, val_loss=0.000431]\n"
     ]
    }
   ],
   "source": [
    "train_loader = DataLoader(TensorDataset(X_train, y_train), batch_size=16, shuffle=True)\n",
    "val_loader = DataLoader(TensorDataset(X_test, y_test), batch_size=16, shuffle=False)\n",
    "\n",
    "# Train the model\n",
    "trainer.fit(model, train_loader, val_loader)"
   ]
  },
  {
   "cell_type": "code",
   "execution_count": 268,
   "metadata": {},
   "outputs": [],
   "source": [
    "# Define the number of future time steps to forecast\n",
    "num_forecast_steps = 30\n",
    "\n",
    "# Convert to NumPy and remove singleton dimensions\n",
    "sequence_to_plot = X_test.squeeze().cpu().numpy()\n",
    "\n",
    "# Use the last 30 data points as the starting point\n",
    "historical_data = sequence_to_plot[-1]\n",
    "\n",
    "# Initialize a list to store the forecasted values\n",
    "forecasted_values = []\n",
    "\n",
    "# Use the trained model to forecast future values\n",
    "with torch.no_grad():\n",
    "    for _ in range(num_forecast_steps*2):\n",
    "        # Prepare the historical_data tensor\n",
    "        historical_data_tensor = torch.as_tensor(historical_data).view(1, -1, 1).float()\n",
    "        # Use the model to predict the next value\n",
    "        predicted_value = model(historical_data_tensor).cpu().numpy()[0, 0]\n",
    "\n",
    "        # Append the predicted value to the forecasted_values list\n",
    "        forecasted_values.append(predicted_value)\n",
    "\n",
    "        # Update the historical_data sequence by removing the oldest value and adding the predicted value\n",
    "        historical_data = np.roll(historical_data, shift=-1)\n",
    "        historical_data[-1] = predicted_value[0]\n",
    "\n",
    "\n",
    "# Generate futute dates\n",
    "last_date = test.index[-1]\n",
    "\n",
    "# Generate the next 30 dates\n",
    "future_dates = pd.date_range(start=last_date + pd.DateOffset(1), periods=30)\n",
    "\n",
    "# Concatenate the original index with the future dates\n",
    "combined_index = test.index.append(future_dates)"
   ]
  },
  {
   "cell_type": "code",
   "execution_count": 270,
   "metadata": {},
   "outputs": [
    {
     "data": {
      "text/plain": [
       "(60, 3)"
      ]
     },
     "execution_count": 270,
     "metadata": {},
     "output_type": "execute_result"
    }
   ],
   "source": [
    "# Reshape 60,1 into 30,3\n",
    "np.array(forecasted_values).shape"
   ]
  },
  {
   "cell_type": "code",
   "execution_count": 271,
   "metadata": {},
   "outputs": [
    {
     "data": {
      "image/png": "[encoded data removed]",
      "text/plain": [
       "<Figure size 1400x400 with 1 Axes>"
      ]
     },
     "metadata": {},
     "output_type": "display_data"
    }
   ],
   "source": [
    "#set the size of the plot\n",
    "plt.rcParams['figure.figsize'] = [14, 4]\n",
    "\n",
    "#Test data\n",
    "plt.plot(test.index[-100:-30], test.values[-100:-30], label = \"test_data\", color = \"b\")\n",
    "#reverse the scaling transformation\n",
    "original_cases = scaler.inverse_transform(sequence_to_plot[-1])\n",
    "# original_cases = scaler.inverse_transform(np.expand_dims(sequence_to_plot[-1], axis=0)).flatten()\n",
    "\n",
    "#the historical data used as input for forecasting\n",
    "plt.plot(test.index[-30:], original_cases, label='actual values', color='green')\n",
    "\n",
    "#Forecasted Values\n",
    "#reverse the scaling transformation\n",
    "forecasted_cases = scaler.inverse_transform(np.array(forecasted_values))\n",
    "# forecasted_cases = scaler.inverse_transform(np.expand_dims(forecasted_values, axis=0)).flatten()\n",
    "\n",
    "# plotting the forecasted values\n",
    "plt.plot(combined_index[-60:], forecasted_cases, label='forecasted values', color='red')\n",
    "\n",
    "plt.xlabel('Time Step')\n",
    "plt.ylabel('Value')\n",
    "plt.legend()\n",
    "plt.title('Time Series Forecasting')\n",
    "plt.grid(True)"
   ]
  }
 ],
 "metadata": {
  "kernelspec": {
   "display_name": ".venv",
   "language": "python",
   "name": "python3"
  },
  "language_info": {
   "codemirror_mode": {
    "name": "ipython",
    "version": 3
   },
   "file_extension": ".py",
   "mimetype": "text/x-python",
   "name": "python",
   "nbconvert_exporter": "python",
   "pygments_lexer": "ipython3",
   "version": "3.11.7"
  }
 },
 "nbformat": 4,
 "nbformat_minor": 2
}
